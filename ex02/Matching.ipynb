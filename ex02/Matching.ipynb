{
 "cells": [
  {
   "cell_type": "code",
   "execution_count": 7,
   "metadata": {
    "collapsed": true
   },
   "outputs": [],
   "source": [
    "import numpy as np\n",
    "n = 10 # 男女の人数"
   ]
  },
  {
   "cell_type": "code",
   "execution_count": 10,
   "metadata": {
    "collapsed": false
   },
   "outputs": [
    {
     "name": "stdout",
     "output_type": "stream",
     "text": [
      "Men's preference is below.\n",
      "[[ 5.  9.  2.  0.  1.  3.  7.  4.  8.  6.]\n",
      " [ 3.  8.  4.  1.  2.  5.  9.  6.  7.  0.]\n",
      " [ 6.  0.  3.  9.  2.  7.  8.  1.  5.  4.]\n",
      " [ 6.  8.  9.  4.  3.  7.  1.  2.  0.  5.]\n",
      " [ 1.  9.  5.  2.  0.  8.  6.  7.  3.  4.]\n",
      " [ 7.  6.  0.  9.  2.  4.  1.  8.  5.  3.]\n",
      " [ 7.  3.  6.  1.  4.  5.  8.  0.  9.  2.]\n",
      " [ 2.  3.  5.  7.  8.  0.  9.  1.  4.  6.]\n",
      " [ 7.  9.  1.  4.  8.  6.  0.  2.  3.  5.]\n",
      " [ 1.  3.  5.  8.  7.  2.  6.  0.  9.  4.]]\n",
      "Women's preference is below.\n",
      "[[ 9.  8.  5.  3.  6.  7.  0.  4.  2.  1.]\n",
      " [ 3.  7.  0.  4.  2.  5.  9.  8.  6.  1.]\n",
      " [ 3.  9.  0.  6.  8.  4.  1.  5.  7.  2.]\n",
      " [ 0.  9.  2.  6.  4.  8.  1.  3.  5.  7.]\n",
      " [ 1.  6.  4.  9.  3.  0.  7.  5.  2.  8.]\n",
      " [ 4.  0.  8.  1.  5.  3.  7.  6.  9.  2.]\n",
      " [ 0.  1.  2.  3.  8.  6.  9.  5.  7.  4.]\n",
      " [ 4.  3.  1.  2.  0.  7.  8.  5.  6.  9.]\n",
      " [ 4.  6.  9.  5.  0.  2.  7.  3.  8.  1.]\n",
      " [ 6.  3.  0.  5.  7.  4.  2.  1.  9.  8.]]\n"
     ]
    }
   ],
   "source": [
    "m_prefer = np.empty([n,n])\n",
    "for i in range(n):\n",
    "    m_prefer[i] = np.arange(n)\n",
    "    np.random.shuffle(m_prefer[i])\n",
    "\n",
    "f_prefer = np.empty([n,n])\n",
    "for i in range(n):\n",
    "    f_prefer[i] = np.arange(n)\n",
    "    np.random.shuffle(f_prefer[i])\n",
    "\"\"\"\n",
    "m_prefer[i][j]はi番目の男性のj番目の女性に対する好みの順位を表しています\n",
    "f_prefer[i][j]はi番目の女性のj番目の男性に対する好みの順位を表しています\n",
    "\n",
    "\"\"\"\n",
    "    \n",
    "m_engage = -np.ones(n) # 男性の婚約状態を表す -1は未婚約、それ以外はその数字の女性と婚約中ということ\n",
    "f_engage = -np.ones(n) # 女性の婚約状態を表す\n",
    "proposing = -1 # 婚約申し込みを保存しておく\n",
    "proposed = -1 #婚約申し込まれを保存しておく\n",
    "\n",
    "print\"Men's preference is below.\"\n",
    "print m_prefer # アルゴリズムが正しいか確認するためにとりあえず表示\n",
    "print\"Women's preference is below.\"\n",
    "print f_prefer # 数字が大きいほうがより好ましい"
   ]
  },
  {
   "cell_type": "code",
   "execution_count": 11,
   "metadata": {
    "collapsed": false
   },
   "outputs": [
    {
     "name": "stdout",
     "output_type": "stream",
     "text": [
      "Man 0 got married to Woman 3\n",
      "Man 1 got married to Woman 9\n",
      "Man 2 got married to Woman 1\n",
      "Man 3 got married to Woman 8\n",
      "Man 4 got married to Woman 4\n",
      "Man 5 got married to Woman 2\n",
      "Man 6 got married to Woman 7\n",
      "Man 7 got married to Woman 5\n",
      "Man 8 got married to Woman 6\n",
      "Man 9 got married to Woman 0\n"
     ]
    }
   ],
   "source": [
    "\n",
    "\n",
    "while(np.sum(m_engage) != np.sum(range(n))):\n",
    "    for proposing in range(n):\n",
    "        if m_engage[proposing] == -1:\n",
    "            proposed = np.argmin(m_prefer[proposing]) # 最も好みの相手に申し込む\n",
    "            m_prefer[proposing][proposed] = n # 一度婚約申し込みをした相手には二度申し込まないようにするため\n",
    "            if f_engage[proposed] == -1:\n",
    "                f_engage[proposed] = proposing\n",
    "                m_engage[proposing] = proposed\n",
    "            else:\n",
    "                if f_prefer[proposed][proposing] < f_prefer[proposed][f_engage[proposed]]:\n",
    "                    m_engage[f_engage[proposed]] = -1\n",
    "                    m_engage[proposing] = proposed\n",
    "                    f_engage[proposed] = proposing\n",
    "\n",
    "for i in range(n):\n",
    "    print(\"Man \" + str(i) + \" got married to Woman \" + str(int(m_engage[i])))\n",
    "    \n"
   ]
  },
  {
   "cell_type": "code",
   "execution_count": null,
   "metadata": {
    "collapsed": true
   },
   "outputs": [],
   "source": []
  }
 ],
 "metadata": {
  "kernelspec": {
   "display_name": "Python 2",
   "language": "python",
   "name": "python2"
  },
  "language_info": {
   "codemirror_mode": {
    "name": "ipython",
    "version": 2
   },
   "file_extension": ".py",
   "mimetype": "text/x-python",
   "name": "python",
   "nbconvert_exporter": "python",
   "pygments_lexer": "ipython2",
   "version": "2.7.7"
  }
 },
 "nbformat": 4,
 "nbformat_minor": 0
}
