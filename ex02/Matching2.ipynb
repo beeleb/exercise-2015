{
 "cells": [
  {
   "cell_type": "code",
   "execution_count": 37,
   "metadata": {
    "collapsed": true
   },
   "outputs": [],
   "source": [
    "# NUMPYを使って高速化したい\n",
    "def DA_NUMPY(a, b):\n",
    "    import copy\n",
    "    m_pref = copy.deepcopy(a) #参照渡しでなくコピーを生成するようにした\n",
    "    f_pref = copy.deepcopy(b)\n",
    "\n",
    "    n = len(m_pref) # 男性の数を判定\n",
    "    m = len(f_pref) # 女性の数を判定\n",
    "    unmatch_m = n # 男のunmatch確定を示す数\n",
    "    unmatch_f = m # 女のunmatch確定を示す数\n",
    "    \n",
    "    m_engage = [-1] * n # 男性の婚約状態を表す -1は未婚約、それ以外はその数字の女性と婚約中ということ\n",
    "    f_engage = [-1] * m\n",
    "    proposing = -1 # 婚約申し込みを保存しておく\n",
    "    proposed = -1 #婚約申し込まれを保存しておく\n",
    "    \n",
    "    while(m_engage.count(-1) != 0):\n",
    "        for proposing in range(n):\n",
    "            if m_engage[proposing] == -1: # 男性が婚約済みの場合は何もしない\n",
    "                proposed = m_pref[proposing][0] # 最も好みの相手に申し込む、と同時に一度申し込んだ相手には二度申し込まない\n",
    "                m_pref[proposing] = m_pref[proposing][1:]+m_pref[proposing][:1]\n",
    "                if proposed == unmatch_f: # unmatch確定のとき\n",
    "                    m_engage[proposing] = proposed\n",
    "                elif f_engage[proposed] == -1: #女性が未婚約のとき\n",
    "                    if f_pref[proposed].index(proposing) < f_pref[proposed].index(unmatch_m): \n",
    "                        f_engage[proposed] = proposing\n",
    "                        m_engage[proposing] = proposed\n",
    "                else: #女性が誰かと婚約済みのとき\n",
    "                    if f_pref[proposed].index(proposing) < f_pref[proposed].index(f_engage[proposed]):\n",
    "                        m_engage[f_engage[proposed]] = -1\n",
    "                        m_engage[proposing] = proposed\n",
    "                        f_engage[proposed] = proposing\n",
    "    \n",
    "    for i in range(m): # 一回も申し込まれないままマッチングが終わった女性のengageを-1からnに変える\n",
    "        if f_engage[i] == -1:\n",
    "            f_engage[i] = n\n",
    "    return m_engage , f_engage"
   ]
  },
  {
   "cell_type": "code",
   "execution_count": null,
   "metadata": {
    "collapsed": true
   },
   "outputs": [],
   "source": []
  },
  {
   "cell_type": "code",
   "execution_count": 36,
   "metadata": {
    "collapsed": false
   },
   "outputs": [
    {
     "name": "stdout",
     "output_type": "stream",
     "text": [
      "[0, 1, 2, 3, 4, 5, 6, 7, 8, 9]\n"
     ]
    },
    {
     "data": {
      "text/plain": [
       "array([1, 2, 3, 4, 5, 6, 7, 8, 9, 0])"
      ]
     },
     "execution_count": 36,
     "metadata": {},
     "output_type": "execute_result"
    }
   ],
   "source": [
    "tes = np.arange(10)\n",
    "print tes\n",
    "np.hstack([tes[1:], tes[:1]])\n"
   ]
  },
  {
   "cell_type": "code",
   "execution_count": 38,
   "metadata": {
    "collapsed": false
   },
   "outputs": [
    {
     "name": "stdout",
     "output_type": "stream",
     "text": [
      "([0, 1, 2], [0, 1, 2, 3])\n",
      "([0, 1, 2, 3], [0, 1, 2])\n"
     ]
    }
   ],
   "source": [
    "m_unmatched = 3\n",
    "f_unmatched = 4\n",
    "m_prefs = [[0, 1, 2, m_unmatched],\n",
    "           [2, 0, 1, m_unmatched],\n",
    "           [1, 2, 0, m_unmatched], \n",
    "           [2, 0, 1, m_unmatched]]\n",
    "\n",
    "f_prefs = [[2, 0, 1, 3, f_unmatched],\n",
    "           [0, 1, 2, 3, f_unmatched],\n",
    "           [2, f_unmatched, 1, 0, 3]]\n",
    "\"\"\"\n",
    "        self.m_matched = [0, 1, 2, m_unmatched]\n",
    "        self.f_matched = [0, 1, 2]\n",
    "        \n",
    "\"\"\"\n",
    "print DA(f_prefs,m_prefs)\n",
    "\n",
    "print DA(m_prefs,f_prefs)\n"
   ]
  },
  {
   "cell_type": "code",
   "execution_count": 27,
   "metadata": {
    "collapsed": false
   },
   "outputs": [
    {
     "ename": "TypeError",
     "evalue": "list indices must be integers, not list",
     "output_type": "error",
     "traceback": [
      "\u001b[1;31m---------------------------------------------------------------------------\u001b[0m",
      "\u001b[1;31mTypeError\u001b[0m                                 Traceback (most recent call last)",
      "\u001b[1;32m<ipython-input-27-46969fc707b1>\u001b[0m in \u001b[0;36m<module>\u001b[1;34m()\u001b[0m\n\u001b[0;32m     18\u001b[0m      [0,1,4,5,10,8,2,3,6,9,7]]\n\u001b[0;32m     19\u001b[0m \u001b[1;33m\u001b[0m\u001b[0m\n\u001b[1;32m---> 20\u001b[1;33m \u001b[0mDA\u001b[0m\u001b[1;33m(\u001b[0m\u001b[0ma\u001b[0m\u001b[1;33m,\u001b[0m \u001b[0mb\u001b[0m\u001b[1;33m)\u001b[0m\u001b[1;33m\u001b[0m\u001b[0m\n\u001b[0m",
      "\u001b[1;32m<ipython-input-26-1a4bb2034119>\u001b[0m in \u001b[0;36mDA\u001b[1;34m(a, b)\u001b[0m\n\u001b[0;32m     21\u001b[0m                 \u001b[1;32mif\u001b[0m \u001b[0mproposed\u001b[0m \u001b[1;33m==\u001b[0m \u001b[0munmatch_f\u001b[0m\u001b[1;33m:\u001b[0m \u001b[1;31m# unmatch確定のとき\u001b[0m\u001b[1;33m\u001b[0m\u001b[0m\n\u001b[0;32m     22\u001b[0m                     \u001b[0mm_engage\u001b[0m\u001b[1;33m[\u001b[0m\u001b[0mproposing\u001b[0m\u001b[1;33m]\u001b[0m \u001b[1;33m=\u001b[0m \u001b[0mproposed\u001b[0m\u001b[1;33m\u001b[0m\u001b[0m\n\u001b[1;32m---> 23\u001b[1;33m                 \u001b[1;32melif\u001b[0m \u001b[0mf_engage\u001b[0m\u001b[1;33m[\u001b[0m\u001b[0mproposed\u001b[0m\u001b[1;33m]\u001b[0m \u001b[1;33m==\u001b[0m \u001b[1;33m-\u001b[0m\u001b[1;36m1\u001b[0m\u001b[1;33m:\u001b[0m \u001b[1;31m#女性が未婚約のとき\u001b[0m\u001b[1;33m\u001b[0m\u001b[0m\n\u001b[0m\u001b[0;32m     24\u001b[0m                     \u001b[1;32mif\u001b[0m \u001b[0mf_pref\u001b[0m\u001b[1;33m[\u001b[0m\u001b[0mproposed\u001b[0m\u001b[1;33m]\u001b[0m\u001b[1;33m.\u001b[0m\u001b[0mindex\u001b[0m\u001b[1;33m(\u001b[0m\u001b[0mproposing\u001b[0m\u001b[1;33m)\u001b[0m \u001b[1;33m<\u001b[0m \u001b[0mf_pref\u001b[0m\u001b[1;33m[\u001b[0m\u001b[0mproposed\u001b[0m\u001b[1;33m]\u001b[0m\u001b[1;33m.\u001b[0m\u001b[0mindex\u001b[0m\u001b[1;33m(\u001b[0m\u001b[0munmatch_m\u001b[0m\u001b[1;33m)\u001b[0m\u001b[1;33m:\u001b[0m\u001b[1;33m\u001b[0m\u001b[0m\n\u001b[0;32m     25\u001b[0m                         \u001b[0mf_engage\u001b[0m\u001b[1;33m[\u001b[0m\u001b[0mproposed\u001b[0m\u001b[1;33m]\u001b[0m \u001b[1;33m=\u001b[0m \u001b[0mproposing\u001b[0m\u001b[1;33m\u001b[0m\u001b[0m\n",
      "\u001b[1;31mTypeError\u001b[0m: list indices must be integers, not list"
     ]
    }
   ],
   "source": [
    "a = [[2,0,4,1,5,3,7,6],\n",
    "     [0,1,2,3,4,5,6,7],\n",
    "     [0,3,4,5,2,6,1,7],\n",
    "     [0,5,6,7,1,2,3,4],\n",
    "     [0,6,5,4,3,2,1,7],\n",
    "     [0,4,6,1,7,2,3,5],\n",
    "     [2,1,6,0,3,4,5,7],\n",
    "     [0,4,6,1,7,2,3,5],\n",
    "     [0,3,4,5,2,6,1,7],\n",
    "     [0,3,4,5,2,6,1,7]]\n",
    "\n",
    "b = [[0,1,2,3,4,5,6,7,8,9,10],\n",
    "     [0,1,4,5,8,2,3,6,9,10,7],\n",
    "     [0,6,4,5,8,9,10,1,2,3,7],\n",
    "     [6,7,5,4,0,9,1,2,3,8,10],\n",
    "     [2,1,6,0,3,4,5,7,10,8,9],\n",
    "     [0,1,4,5,8,2,3,6,9,10,7],\n",
    "     [0,1,4,5,10,8,2,3,6,9,7]]\n",
    "    \n",
    "DA(a, b)"
   ]
  },
  {
   "cell_type": "code",
   "execution_count": 59,
   "metadata": {
    "collapsed": false
   },
   "outputs": [
    {
     "name": "stdout",
     "output_type": "stream",
     "text": [
      "[[ 10.   1.   6.   7.  12.  11.   2.   4.   8.   0.   3.   5.   9.]\n",
      " [  6.   9.  11.   4.   2.  10.   8.   5.   7.  12.   0.   1.   3.]\n",
      " [  6.  11.   3.   1.  12.   8.  10.   0.   5.   4.   2.   7.   9.]\n",
      " [ 12.   4.   0.   7.  11.   1.   8.   9.  10.   3.   6.   2.   5.]\n",
      " [  9.   1.  11.   2.   3.  10.   7.   6.   5.   4.   0.  12.   8.]\n",
      " [  6.   0.  10.   7.   9.   2.  12.   3.   5.   8.   4.   1.  11.]\n",
      " [  5.   1.   0.   3.  11.   9.   2.   4.   8.  10.   7.  12.   6.]\n",
      " [  1.   5.   7.  11.   6.   8.   9.   0.  10.  12.   2.   4.   3.]\n",
      " [  0.   2.   9.   1.  11.   3.  12.   7.   8.   6.   5.  10.   4.]\n",
      " [  6.   4.  10.   2.   9.   5.   3.   7.  11.   8.   1.   0.  12.]]\n",
      "[[  9.   3.   5.   0.   7.   6.  10.   2.   8.   4.   1.]\n",
      " [  5.   0.  10.   9.   3.   4.   7.   6.   8.   1.   2.]\n",
      " [  6.   4.   8.   0.  10.   2.   5.   1.   7.   9.   3.]\n",
      " [  2.   6.   7.   1.   3.   9.   4.   5.   8.   0.  10.]\n",
      " [  0.   7.   6.   3.   8.  10.   5.   2.   4.   9.   1.]\n",
      " [  1.   8.   6.   5.  10.   2.   7.   3.   9.   4.   0.]\n",
      " [  3.   5.   1.   7.   4.   0.  10.   8.   9.   6.   2.]\n",
      " [  4.   7.   6.   9.   8.   5.   1.   3.   0.   2.  10.]\n",
      " [  1.   8.   2.  10.   7.   4.   6.   3.   9.   0.   5.]\n",
      " [  2.   4.   5.   8.   3.   0.   1.   7.  10.   6.   9.]\n",
      " [  6.   7.  10.   5.   8.   1.   9.   3.   4.   0.   2.]\n",
      " [  4.   9.   3.   2.   0.   5.   8.   7.  10.   6.   1.]]\n"
     ]
    },
    {
     "ename": "TypeError",
     "evalue": "list indices must be integers, not numpy.float64",
     "output_type": "error",
     "traceback": [
      "\u001b[1;31m---------------------------------------------------------------------------\u001b[0m",
      "\u001b[1;31mTypeError\u001b[0m                                 Traceback (most recent call last)",
      "\u001b[1;32m<ipython-input-59-63a8cbdfa0a8>\u001b[0m in \u001b[0;36m<module>\u001b[1;34m()\u001b[0m\n\u001b[0;32m     24\u001b[0m \u001b[1;32mprint\u001b[0m \u001b[0mwoman\u001b[0m\u001b[1;33m\u001b[0m\u001b[0m\n\u001b[0;32m     25\u001b[0m \u001b[1;33m\u001b[0m\u001b[0m\n\u001b[1;32m---> 26\u001b[1;33m \u001b[0mDA\u001b[0m\u001b[1;33m(\u001b[0m\u001b[0mman\u001b[0m\u001b[1;33m,\u001b[0m\u001b[0mwoman\u001b[0m\u001b[1;33m)\u001b[0m\u001b[1;33m\u001b[0m\u001b[0m\n\u001b[0m",
      "\u001b[1;32m<ipython-input-37-3fdab18fa7a6>\u001b[0m in \u001b[0;36mDA\u001b[1;34m(a, b)\u001b[0m\n\u001b[0;32m     21\u001b[0m                 \u001b[1;32mif\u001b[0m \u001b[0mproposed\u001b[0m \u001b[1;33m==\u001b[0m \u001b[0munmatch_f\u001b[0m\u001b[1;33m:\u001b[0m \u001b[1;31m# unmatch確定のとき\u001b[0m\u001b[1;33m\u001b[0m\u001b[0m\n\u001b[0;32m     22\u001b[0m                     \u001b[0mm_engage\u001b[0m\u001b[1;33m[\u001b[0m\u001b[0mproposing\u001b[0m\u001b[1;33m]\u001b[0m \u001b[1;33m=\u001b[0m \u001b[0mproposed\u001b[0m\u001b[1;33m\u001b[0m\u001b[0m\n\u001b[1;32m---> 23\u001b[1;33m                 \u001b[1;32melif\u001b[0m \u001b[0mf_engage\u001b[0m\u001b[1;33m[\u001b[0m\u001b[0mproposed\u001b[0m\u001b[1;33m]\u001b[0m \u001b[1;33m==\u001b[0m \u001b[1;33m-\u001b[0m\u001b[1;36m1\u001b[0m\u001b[1;33m:\u001b[0m \u001b[1;31m#女性が未婚約のとき\u001b[0m\u001b[1;33m\u001b[0m\u001b[0m\n\u001b[0m\u001b[0;32m     24\u001b[0m                     \u001b[1;32mif\u001b[0m \u001b[0mf_pref\u001b[0m\u001b[1;33m[\u001b[0m\u001b[0mproposed\u001b[0m\u001b[1;33m]\u001b[0m\u001b[1;33m.\u001b[0m\u001b[0mindex\u001b[0m\u001b[1;33m(\u001b[0m\u001b[0mproposing\u001b[0m\u001b[1;33m)\u001b[0m \u001b[1;33m<\u001b[0m \u001b[0mf_pref\u001b[0m\u001b[1;33m[\u001b[0m\u001b[0mproposed\u001b[0m\u001b[1;33m]\u001b[0m\u001b[1;33m.\u001b[0m\u001b[0mindex\u001b[0m\u001b[1;33m(\u001b[0m\u001b[0munmatch_m\u001b[0m\u001b[1;33m)\u001b[0m\u001b[1;33m:\u001b[0m\u001b[1;33m\u001b[0m\u001b[0m\n\u001b[0;32m     25\u001b[0m                         \u001b[0mf_engage\u001b[0m\u001b[1;33m[\u001b[0m\u001b[0mproposed\u001b[0m\u001b[1;33m]\u001b[0m \u001b[1;33m=\u001b[0m \u001b[0mproposing\u001b[0m\u001b[1;33m\u001b[0m\u001b[0m\n",
      "\u001b[1;31mTypeError\u001b[0m: list indices must be integers, not numpy.float64"
     ]
    }
   ],
   "source": [
    "import numpy as np\n",
    "n = 10\n",
    "m = 12\n",
    "man = np.empty([n,m+1])\n",
    "woman = np.empty([m,n+1])\n",
    "for i in range(n):\n",
    "    man[i] = np.arange(m+1)\n",
    "    np.random.shuffle(man[i])\n",
    "for i in range(m):\n",
    "    woman[i] = np.arange(n+1)\n",
    "    np.random.shuffle(woman[i])\n",
    "man.tolist()\n",
    "woman.tolist()\n",
    "\n",
    "for i in range(n):\n",
    "    for j in range(m+1):\n",
    "        man[i][j] = int(man[i][j])\n",
    "        \n",
    "\n",
    "for i in range(m):\n",
    "    for j in range(n+1):\n",
    "        woman[i][j] = int(woman[i][j])\n",
    "print man\n",
    "print woman\n",
    "\n",
    "DA(man,woman)"
   ]
  },
  {
   "cell_type": "code",
   "execution_count": 61,
   "metadata": {
    "collapsed": false
   },
   "outputs": [],
   "source": [
    "# とりあえずtest_matchingは通過したもの、たぶん遅い\n",
    "def DA(a, b):\n",
    "    import copy\n",
    "    m_pref = copy.deepcopy(a)\n",
    "    f_pref = copy.deepcopy(b)\n",
    "\n",
    "    n = len(m_pref)\n",
    "    m = len(f_pref)\n",
    "    unmatch_m = n\n",
    "    unmatch_f = m\n",
    "    \n",
    "    m_engage = [-1] * n\n",
    "    f_engage = [-1] * m\n",
    "    proposing = -1\n",
    "    proposed = -1\n",
    "    \n",
    "    while(m_engage.count(-1) != 0):\n",
    "        for proposing in range(n):\n",
    "            if m_engage[proposing] == -1:\n",
    "                proposed = m_pref[proposing].pop(0)\n",
    "                if proposed == unmatch_f:\n",
    "                    m_engage[proposing] = proposed\n",
    "                elif f_engage[proposed] == -1:\n",
    "                    if f_pref[proposed].index(proposing) < f_pref[proposed].index(unmatch_m): \n",
    "                        f_engage[proposed] = proposing\n",
    "                        m_engage[proposing] = proposed\n",
    "                else:\n",
    "                    if f_pref[proposed].index(proposing) < f_pref[proposed].index(f_engage[proposed]):\n",
    "                        m_engage[f_engage[proposed]] = -1\n",
    "                        m_engage[proposing] = proposed\n",
    "                        f_engage[proposed] = proposing\n",
    "                        \n",
    "    for i in range(m):\n",
    "        if f_engage[i] == -1:\n",
    "            f_engage[i] = n\n",
    "    return m_engage , f_engage\n",
    "\n",
    "            \n"
   ]
  },
  {
   "cell_type": "code",
   "execution_count": null,
   "metadata": {
    "collapsed": true
   },
   "outputs": [],
   "source": []
  },
  {
   "cell_type": "code",
   "execution_count": 62,
   "metadata": {
    "collapsed": false
   },
   "outputs": [
    {
     "data": {
      "text/plain": [
       "([0, 2, 1], [0, 2, 1])"
      ]
     },
     "execution_count": 62,
     "metadata": {},
     "output_type": "execute_result"
    }
   ],
   "source": [
    "a = [[0,1,2,3],\n",
    "     [1,0,2,3],\n",
    "     [1,0,2,3]]\n",
    "b = [[2,0,1,3],\n",
    "     [2,0,1,3],\n",
    "     [1,2,0,3]]\n",
    "DA(a, b)"
   ]
  },
  {
   "cell_type": "code",
   "execution_count": 20,
   "metadata": {
    "collapsed": false
   },
   "outputs": [
    {
     "name": "stdout",
     "output_type": "stream",
     "text": [
      "([0, 1, 2, 3], [0, 1, 2])\n",
      "([0, 1, 2], [0, 1, 2, 3])\n"
     ]
    }
   ],
   "source": [
    "m_unmatched = 3\n",
    "f_unmatched = 4\n",
    "m_prefs = [[0, 1, 2, m_unmatched],\n",
    "           [2, 0, 1, m_unmatched],\n",
    "           [1, 2, 0, m_unmatched], \n",
    "           [2, 0, 1, m_unmatched]]\n",
    "\n",
    "f_prefs = [[2, 0, 1, 3, f_unmatched],\n",
    "           [0, 1, 2, 3, f_unmatched],\n",
    "           [2, f_unmatched, 1, 0, 3]]\n",
    "from DA_match import DA\n",
    "\n",
    "print DA(m_prefs, f_prefs)\n",
    "print DA(f_prefs, m_prefs)"
   ]
  },
  {
   "cell_type": "raw",
   "metadata": {},
   "source": [
    "run test_matching.py\n"
   ]
  },
  {
   "cell_type": "code",
   "execution_count": 60,
   "metadata": {
    "collapsed": false
   },
   "outputs": [
    {
     "name": "stderr",
     "output_type": "stream",
     "text": [
      "test_matching.TestDeferredAcceptance.test_female_proposal ... ok\n",
      "test_matching.TestDeferredAcceptance.test_male_proposal ... ok\n",
      "\n",
      "----------------------------------------------------------------------\n",
      "Ran 2 tests in 0.004s\n",
      "\n",
      "OK\n"
     ]
    }
   ],
   "source": [
    "run test_matching.py"
   ]
  },
  {
   "cell_type": "code",
   "execution_count": null,
   "metadata": {
    "collapsed": true
   },
   "outputs": [],
   "source": []
  },
  {
   "cell_type": "code",
   "execution_count": 11,
   "metadata": {
    "collapsed": false
   },
   "outputs": [
    {
     "name": "stdout",
     "output_type": "stream",
     "text": [
      "[3, 2, 2]\n"
     ]
    }
   ],
   "source": [
    "# 1対多バージョン\n",
    "import numpy as np\n",
    "m = 7 # 人の数\n",
    "n = 3  # 受け入れ先の数\n",
    "number = [0] * n\n",
    "for i in range(n):\n",
    "    if i < m%n:\n",
    "        number[i] = m/n+1\n",
    "    else:\n",
    "        number[i] = m/n\n",
    "print number"
   ]
  },
  {
   "cell_type": "code",
   "execution_count": null,
   "metadata": {
    "collapsed": true
   },
   "outputs": [],
   "source": [
    "for tested in range(m):\n",
    "    if tested_e[tested] == -1:\n",
    "        testing = tested_p[0]\n",
    "        del tested_p[0]\n",
    "        switch = 0\n",
    "        for i in range(len(testing_e[testing])):\n",
    "            if testing_e[testing][i] == -1:\n",
    "                if switch == 0:\n",
    "                    testing_e[testing][i] = tested\n",
    "                    tested_e[tested] = testing\n",
    "                    switch = 1\n",
    "        if switch = 0: # マッチングを試みた相手に空きがなかった場合ということ\n",
    "            for matched in testing_e:\n",
    "                \n",
    "                \n",
    "                "
   ]
  },
  {
   "cell_type": "code",
   "execution_count": 18,
   "metadata": {
    "collapsed": false
   },
   "outputs": [
    {
     "name": "stdout",
     "output_type": "stream",
     "text": [
      "[[ 2.  1.  0.]\n",
      " [ 1.  2.  0.]\n",
      " [ 2.  0.  1.]\n",
      " [ 0.  1.  2.]\n",
      " [ 1.  2.  0.]\n",
      " [ 0.  1.  2.]\n",
      " [ 0.  1.  2.]]\n",
      "[[ 3.  4.  1.  6.  0.  5.  2.]\n",
      " [ 2.  1.  4.  3.  0.  6.  5.]\n",
      " [ 5.  6.  2.  4.  3.  0.  1.]]\n",
      "[-1, -1, -1, -1, -1, -1, -1]\n",
      "[[-1, -1, -1], [-1, -1], [-1, -1]]\n"
     ]
    }
   ],
   "source": [
    "tested_p = np.empty([m,n])\n",
    "for i in range(m):\n",
    "    tested_p[i] = np.arange(n)\n",
    "    np.random.shuffle(tested_p[i])\n",
    "print tested_p\n",
    "\n",
    "testing_p = np.empty([n,m])\n",
    "for i in range(n):\n",
    "    testing_p[i] = np.arange(m)\n",
    "    np.random.shuffle(testing_p[i])\n",
    "print testing_p\n",
    "\n",
    "tested_e = [-1] * m\n",
    "testing_e = []\n",
    "print tested_e\n",
    "for i in range(n):\n",
    "    testing_e.append([-1]*number[i])\n",
    "print testing_e"
   ]
  }
 ],
 "metadata": {
  "kernelspec": {
   "display_name": "Python 2",
   "language": "python",
   "name": "python2"
  },
  "language_info": {
   "codemirror_mode": {
    "name": "ipython",
    "version": 2
   },
   "file_extension": ".py",
   "mimetype": "text/x-python",
   "name": "python",
   "nbconvert_exporter": "python",
   "pygments_lexer": "ipython2",
   "version": "2.7.7"
  }
 },
 "nbformat": 4,
 "nbformat_minor": 0
}
