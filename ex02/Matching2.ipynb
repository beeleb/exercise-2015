{
 "cells": [
  {
   "cell_type": "code",
   "execution_count": 21,
   "metadata": {
    "collapsed": true
   },
   "outputs": [],
   "source": [
    "def DA(a, b):\n",
    "    import copy\n",
    "    m_pref = copy.deepcopy(a) #参照渡しでなくコピーを生成するようにした\n",
    "    f_pref = copy.deepcopy(b)\n",
    "\n",
    "    n = len(m_pref) # 男性の数を判定\n",
    "    m = len(f_pref) # 女性の数を判定\n",
    "    unmatch_m = n # 男のunmatch確定を示す数\n",
    "    unmatch_f = m # 女のunmatch確定を示す数\n",
    "    \n",
    "    m_engage = [-1] * n # 男性の婚約状態を表す -1は未婚約、それ以外はその数字の女性と婚約中ということ\n",
    "    f_engage = [-1] * m\n",
    "    proposing = -1 # 婚約申し込みを保存しておく\n",
    "    proposed = -1 #婚約申し込まれを保存しておく\n",
    "    \n",
    "    while(m_engage.count(-1) != 0):\n",
    "        for proposing in range(n):\n",
    "            if m_engage[proposing] == -1: # 男性が婚約済みの場合は何もしない\n",
    "                proposed = m_pref[proposing].pop(0) # 最も好みの相手に申し込む、と同時に一度申し込んだ相手には二度申し込まない\n",
    "                if proposed == unmatch_f: # unmatch確定のとき\n",
    "                    m_engage[proposing] = proposed\n",
    "                elif f_engage[proposed] == -1: #女性が未婚約のとき\n",
    "                    if f_pref[proposed].index(proposing) < f_pref[proposed].index(unmatch_m): \n",
    "                        f_engage[proposed] = proposing\n",
    "                        m_engage[proposing] = proposed\n",
    "                else: #女性が誰かと婚約済みのとき\n",
    "                    if f_pref[proposed].index(proposing) < f_pref[proposed].index(f_engage[proposed]):\n",
    "                        m_engage[f_engage[proposed]] = -1\n",
    "                        m_engage[proposing] = proposed\n",
    "                        f_engage[proposed] = proposing\n",
    "\n",
    "            \n",
    "    return m_engage "
   ]
  },
  {
   "cell_type": "code",
   "execution_count": null,
   "metadata": {
    "collapsed": true
   },
   "outputs": [],
   "source": [
    "def DA(a, b):\n",
    "    import copy\n",
    "    m_pref = copy.deepcopy(a)\n",
    "    f_pref = copy.deepcopy(b)\n",
    "\n",
    "    n = len(m_pref)\n",
    "    m = len(f_pref)\n",
    "    unmatch_m = n\n",
    "    unmatch_f = m\n",
    "    \n",
    "    m_engage = [-1] * n\n",
    "    f_engage = [-1] * m\n",
    "    proposing = -1\n",
    "    proposed = -1\n",
    "    \n",
    "    while(m_engage.count(-1) != 0):\n",
    "        for proposing in range(n):\n",
    "            if m_engage[proposing] == -1:\n",
    "                proposed = m_pref[proposing].pop(0)\n",
    "                if proposed == unmatch_f:\n",
    "                    m_engage[proposing] = proposed\n",
    "                elif f_engage[proposed] == -1:\n",
    "                    if f_pref[proposed].index(proposing) < f_pref[proposed].index(unmatch_m): \n",
    "                        f_engage[proposed] = proposing\n",
    "                        m_engage[proposing] = proposed\n",
    "                else:\n",
    "                    if f_pref[proposed].index(proposing) < f_pref[proposed].index(f_engage[proposed]):\n",
    "                        m_engage[f_engage[proposed]] = -1\n",
    "                        m_engage[proposing] = proposed\n",
    "                        f_engage[proposed] = proposing\n",
    "\n",
    "            \n",
    "    return m_engage "
   ]
  },
  {
   "cell_type": "code",
   "execution_count": 6,
   "metadata": {
    "collapsed": false
   },
   "outputs": [
    {
     "data": {
      "text/plain": [
       "[2, 0, 4, 7, 6, 1, 3, 7, 5, 7]"
      ]
     },
     "execution_count": 6,
     "metadata": {},
     "output_type": "execute_result"
    }
   ],
   "source": [
    "#表示パート\n",
    "a = [[2,0,4,1,5,3,7,6],\n",
    "     [0,1,2,3,4,5,6,7],\n",
    "     [0,3,4,5,2,6,1,7],\n",
    "     [0,5,6,7,1,2,3,4],\n",
    "     [0,6,5,4,3,2,1,7],\n",
    "     [0,4,6,1,7,2,3,5],\n",
    "     [2,1,6,0,3,4,5,7],\n",
    "     [0,4,6,1,7,2,3,5],\n",
    "     [0,3,4,5,2,6,1,7],\n",
    "     [0,3,4,5,2,6,1,7]]\n",
    "\n",
    "b = [[0,1,2,3,4,5,6,7,8,9,10],\n",
    "     [0,1,4,5,8,2,3,6,9,10,7],\n",
    "     [0,6,4,5,8,9,10,1,2,3,7],\n",
    "     [6,7,5,4,0,9,1,2,3,8,10],\n",
    "     [2,1,6,0,3,4,5,7,10,8,9],\n",
    "     [0,1,4,5,8,2,3,6,9,10,7],\n",
    "     [0,1,4,5,10,8,2,3,6,9,7]]\n",
    "    \n",
    "DA(a, b)"
   ]
  },
  {
   "cell_type": "code",
   "execution_count": 7,
   "metadata": {
    "collapsed": false
   },
   "outputs": [
    {
     "data": {
      "text/plain": [
       "[0, 2, 1]"
      ]
     },
     "execution_count": 7,
     "metadata": {},
     "output_type": "execute_result"
    }
   ],
   "source": [
    "a = [[0,1,2,3],\n",
    "     [1,0,2,3],\n",
    "     [1,0,2,3]]\n",
    "b = [[2,0,1,3],\n",
    "     [2,0,1,3],\n",
    "     [1,2,0,3]]\n",
    "DA(a, b)"
   ]
  },
  {
   "cell_type": "code",
   "execution_count": 22,
   "metadata": {
    "collapsed": false
   },
   "outputs": [
    {
     "name": "stdout",
     "output_type": "stream",
     "text": [
      "[0, 1, 2]\n",
      "[0, 1, 2, 3]\n"
     ]
    }
   ],
   "source": [
    "m_unmatched = 3\n",
    "f_unmatched = 4\n",
    "m_prefs = [[0, 1, 2, m_unmatched],\n",
    "           [2, 0, 1, m_unmatched],\n",
    "           [1, 2, 0, m_unmatched], \n",
    "           [2, 0, 1, m_unmatched]]\n",
    "\n",
    "f_prefs = [[2, 0, 1, 3, f_unmatched],\n",
    "           [0, 1, 2, 3, f_unmatched],\n",
    "           [2, f_unmatched, 1, 0, 3]]\n",
    "\"\"\"\n",
    "        self.m_matched = [0, 1, 2, m_unmatched]\n",
    "        self.f_matched = [0, 1, 2]\n",
    "        \n",
    "\"\"\"\n",
    "print DA(f_prefs,m_prefs)\n",
    "print DA(m_prefs,f_prefs)\n"
   ]
  },
  {
   "cell_type": "code",
   "execution_count": 11,
   "metadata": {
    "collapsed": false
   },
   "outputs": [
    {
     "name": "stdout",
     "output_type": "stream",
     "text": [
      "[0, 1, 2, 3]\n",
      "[0, 1, 2]\n"
     ]
    }
   ],
   "source": [
    "m_unmatched = 3\n",
    "f_unmatched = 4\n",
    "m_prefs = [[0, 1, 2, m_unmatched],\n",
    "           [2, 0, 1, m_unmatched],\n",
    "           [1, 2, 0, m_unmatched], \n",
    "           [2, 0, 1, m_unmatched]]\n",
    "\n",
    "f_prefs = [[2, 0, 1, 3, f_unmatched],\n",
    "           [0, 1, 2, 3, f_unmatched],\n",
    "           [2, f_unmatched, 1, 0, 3]]\n",
    "from DA_match import DA\n",
    "print DA(m_prefs, f_prefs)\n",
    "print DA(f_prefs, m_prefs)"
   ]
  },
  {
   "cell_type": "raw",
   "metadata": {},
   "source": [
    "run test_matching.py\n"
   ]
  },
  {
   "cell_type": "code",
   "execution_count": 10,
   "metadata": {
    "collapsed": false
   },
   "outputs": [
    {
     "name": "stderr",
     "output_type": "stream",
     "text": [
      "test_matching.TestDeferredAcceptance.test_female_proposal ... ERROR\n",
      "test_matching.TestDeferredAcceptance.test_male_proposal ... ERROR\n",
      "\n",
      "======================================================================\n",
      "ERROR: test_matching.TestDeferredAcceptance.test_female_proposal\n",
      "----------------------------------------------------------------------\n",
      "Traceback (most recent call last):\n",
      "  File \"C:\\Anaconda\\lib\\site-packages\\nose\\case.py\", line 197, in runTest\n",
      "    self.test(*self.arg)\n",
      "  File \"test_matching.py\", line 38, in test_female_proposal\n",
      "    deferred_acceptance(self.f_prefs, self.m_prefs)\n",
      "ValueError: too many values to unpack\n",
      "\n",
      "======================================================================\n",
      "ERROR: test_matching.TestDeferredAcceptance.test_male_proposal\n",
      "----------------------------------------------------------------------\n",
      "Traceback (most recent call last):\n",
      "  File \"C:\\Anaconda\\lib\\site-packages\\nose\\case.py\", line 197, in runTest\n",
      "    self.test(*self.arg)\n",
      "  File \"test_matching.py\", line 32, in test_male_proposal\n",
      "    deferred_acceptance(self.m_prefs, self.f_prefs)\n",
      "ValueError: too many values to unpack\n",
      "\n",
      "----------------------------------------------------------------------\n",
      "Ran 2 tests in 0.005s\n",
      "\n",
      "FAILED (errors=2)\n"
     ]
    },
    {
     "ename": "SystemExit",
     "evalue": "True",
     "output_type": "error",
     "traceback": [
      "An exception has occurred, use %tb to see the full traceback.\n",
      "\u001b[1;31mSystemExit\u001b[0m\u001b[1;31m:\u001b[0m True\n"
     ]
    }
   ],
   "source": [
    "run test_matching.py"
   ]
  },
  {
   "cell_type": "code",
   "execution_count": null,
   "metadata": {
    "collapsed": true
   },
   "outputs": [],
   "source": []
  },
  {
   "cell_type": "code",
   "execution_count": 11,
   "metadata": {
    "collapsed": false
   },
   "outputs": [
    {
     "name": "stdout",
     "output_type": "stream",
     "text": [
      "[3, 2, 2]\n"
     ]
    }
   ],
   "source": [
    "# 1対多バージョン\n",
    "import numpy as np\n",
    "m = 7 # 人の数\n",
    "n = 3  # 受け入れ先の数\n",
    "number = [0] * n\n",
    "for i in range(n):\n",
    "    if i < m%n:\n",
    "        number[i] = m/n+1\n",
    "    else:\n",
    "        number[i] = m/n\n",
    "print number"
   ]
  },
  {
   "cell_type": "code",
   "execution_count": null,
   "metadata": {
    "collapsed": true
   },
   "outputs": [],
   "source": [
    "for tested in range(m):\n",
    "    if tested_e[tested] == -1:\n",
    "        testing = tested_p[0]\n",
    "        del tested_p[0]\n",
    "        switch = 0\n",
    "        for i in range(len(testing_e[testing])):\n",
    "            if testing_e[testing][i] == -1:\n",
    "                if switch == 0:\n",
    "                    testing_e[testing][i] = tested\n",
    "                    tested_e[tested] = testing\n",
    "                    switch = 1\n",
    "        if switch = 0: # マッチングを試みた相手に空きがなかった場合ということ\n",
    "            for matched in testing_e:\n",
    "                \n",
    "                \n",
    "                "
   ]
  },
  {
   "cell_type": "code",
   "execution_count": 18,
   "metadata": {
    "collapsed": false
   },
   "outputs": [
    {
     "name": "stdout",
     "output_type": "stream",
     "text": [
      "[[ 2.  1.  0.]\n",
      " [ 1.  2.  0.]\n",
      " [ 2.  0.  1.]\n",
      " [ 0.  1.  2.]\n",
      " [ 1.  2.  0.]\n",
      " [ 0.  1.  2.]\n",
      " [ 0.  1.  2.]]\n",
      "[[ 3.  4.  1.  6.  0.  5.  2.]\n",
      " [ 2.  1.  4.  3.  0.  6.  5.]\n",
      " [ 5.  6.  2.  4.  3.  0.  1.]]\n",
      "[-1, -1, -1, -1, -1, -1, -1]\n",
      "[[-1, -1, -1], [-1, -1], [-1, -1]]\n"
     ]
    }
   ],
   "source": [
    "tested_p = np.empty([m,n])\n",
    "for i in range(m):\n",
    "    tested_p[i] = np.arange(n)\n",
    "    np.random.shuffle(tested_p[i])\n",
    "print tested_p\n",
    "\n",
    "testing_p = np.empty([n,m])\n",
    "for i in range(n):\n",
    "    testing_p[i] = np.arange(m)\n",
    "    np.random.shuffle(testing_p[i])\n",
    "print testing_p\n",
    "\n",
    "tested_e = [-1] * m\n",
    "testing_e = []\n",
    "print tested_e\n",
    "for i in range(n):\n",
    "    testing_e.append([-1]*number[i])\n",
    "print testing_e"
   ]
  }
 ],
 "metadata": {
  "kernelspec": {
   "display_name": "Python 2",
   "language": "python",
   "name": "python2"
  },
  "language_info": {
   "codemirror_mode": {
    "name": "ipython",
    "version": 2
   },
   "file_extension": ".py",
   "mimetype": "text/x-python",
   "name": "python",
   "nbconvert_exporter": "python",
   "pygments_lexer": "ipython2",
   "version": "2.7.7"
  }
 },
 "nbformat": 4,
 "nbformat_minor": 0
}
